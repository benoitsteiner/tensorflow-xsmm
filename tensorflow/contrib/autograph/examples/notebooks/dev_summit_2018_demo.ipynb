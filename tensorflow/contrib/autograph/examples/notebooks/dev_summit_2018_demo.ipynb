{
  "nbformat": 4,
  "nbformat_minor": 0,
  "metadata": {
    "colab": {
      "name": "Dev Summit 2018 - Autograph",
      "version": "0.3.2",
      "views": {},
      "default_view": {},
      "provenance": [
        {
          "file_id": "1wCZUh73zTNs1jzzYjqoxMIdaBWCdKJ2K",
          "timestamp": 1522238054357
        },
        {
          "file_id": "1_HpC-RrmIv4lNaqeoslUeWaX8zH5IXaJ",
          "timestamp": 1521743157199
        },
        {
          "file_id": "1mjO2fQ2F9hxpAzw2mnrrUkcgfb7xSGW-",
          "timestamp": 1520522344607
        }
      ],
      "collapsed_sections": []
    },
    "kernelspec": {
      "name": "python2",
      "display_name": "Python 2"
    }
  },
  "cells": [
    {
      "metadata": {
        "id": "g7nGs4mzVUHP",
        "colab_type": "text"
      },
      "cell_type": "markdown",
      "source": [
        "# Experimental: TF Autograph\n",
        "**TensorFlow Dev Summit, 2018.**\n",
        "\n",
        "This interactive notebook demonstrates **autograph**, an experimental source-code transformation library to automatically convert TF.Eager and Python code to TensorFlow graphs.\n",
        "\n",
        "**Note: this is pre-alpha software!** The notebook works best with Python 2, for now.\n",
        "\n",
        "> ![alt text](https://lh3.googleusercontent.com/QOvy0clmg7siaVKzwmSPAjicWWNQ0OeyaB16plDjSJMf35WD3vLjF6mz4CGrhSHw60HnlZPJjkyDCBzw5XOI0oBGSewyYw=s688)\n",
        "\n",
        "### Table of Contents\n",
        "1. _Write Eager code that is fast and scalable._\n",
        "2. _Case study: complex control flow._\n",
        "3. _Case study: training MNIST with Keras._\n",
        "4. _Case study: building an RNN._"
      ]
    },
    {
      "metadata": {
        "id": "uFcgBENZqkB2",
        "colab_type": "code",
        "colab": {
          "autoexec": {
            "startup": false,
            "wait_interval": 0
          }
        }
      },
      "cell_type": "code",
      "source": [
        "# Install TensorFlow; note that Colab notebooks run remotely, on virtual\n",
        "# instances provided by Google.\n",
        "!pip install -U -q tf-nightly"
      ],
      "execution_count": 0,
      "outputs": []
    },
    {
      "metadata": {
        "id": "Pa2qpEmoVOGe",
        "colab_type": "code",
        "colab": {
          "autoexec": {
            "startup": false,
            "wait_interval": 0
          }
        }
      },
      "cell_type": "code",
      "source": [
        "import os\n",
        "import time\n",
        "\n",
        "import tensorflow as tf\n",
        "from tensorflow.contrib import autograph\n",
        "\n",
        "import matplotlib.pyplot as plt\n",
        "import numpy as np\n",
        "import six\n",
        "\n",
        "from google.colab import widgets"
      ],
      "execution_count": 0,
      "outputs": []
    },
    {
      "metadata": {
        "id": "ZVKfj5ttVkqz",
        "colab_type": "text"
      },
      "cell_type": "markdown",
      "source": [
        "# 1. Write Eager code that is fast and scalable\n",
        "\n",
        "TF.Eager gives you more flexibility while coding, but at the cost of losing the benefits of TensorFlow graphs. For example, Eager does not currently support distributed training, exporting models, and a variety of memory and computation optimizations.\n",
        "\n",
        "Autograph gives you the best of both worlds: write your code in an Eager style, and we will automatically transform it into the equivalent TF graph code. The graph code can be executed eagerly (as a single op), included as part of a larger graph, or exported."
      ]
    },
    {
      "metadata": {
        "id": "snaZRFdWd9ym",
        "colab_type": "text"
      },
      "cell_type": "markdown",
      "source": [
        "For example, autograph can convert a function like this:"
      ]
    },
    {
      "metadata": {
        "id": "9__n8cSIeDnD",
        "colab_type": "code",
        "colab": {
          "autoexec": {
            "startup": false,
            "wait_interval": 0
          }
        }
      },
      "cell_type": "code",
      "source": [
        "def g(x):\n",
        "  if x > 0:\n",
        "    x = x * x\n",
        "  else:\n",
        "    x = 0\n",
        "  return x"
      ],
      "execution_count": 0,
      "outputs": []
    },
    {
      "metadata": {
        "id": "gq0eQcuReHET",
        "colab_type": "text"
      },
      "cell_type": "markdown",
      "source": [
        "... into a TF graph-building function:"
      ]
    },
    {
      "metadata": {
        "id": "sELSn599ePUF",
        "colab_type": "code",
        "colab": {
          "autoexec": {
            "startup": false,
            "wait_interval": 0
          },
          "output_extras": [
            {}
          ],
          "base_uri": "https://localhost:8080/",
          "height": 413
        },
        "outputId": "bb0c7216-1ca3-4da1-d1fb-589902cdcd1a",
        "executionInfo": {
          "status": "ok",
          "timestamp": 1522345737505,
          "user_tz": 240,
          "elapsed": 243,
          "user": {
            "displayName": "Dan Moldovan",
            "photoUrl": "//lh5.googleusercontent.com/-Rneh8xjecyk/AAAAAAAAAAI/AAAAAAAACB4/c5vwsJpbktY/s50-c-k-no/photo.jpg",
            "userId": "112023154726779574577"
          }
        }
      },
      "cell_type": "code",
      "source": [
        "print(autograph.to_code(g))"
      ],
      "execution_count": 0,
      "outputs": [
        {
          "output_type": "stream",
          "text": [
            "from __future__ import print_function\n",
            "import tensorflow as tf\n",
            "from tensorflow.contrib.autograph.impl import api as autograph_api\n",
            "from tensorflow.contrib.autograph import utils as autograph_utils\n",
            "\n",
            "def tf__g(x):\n",
            "  with tf.name_scope('g'):\n",
            "\n",
            "    def if_true():\n",
            "      with tf.name_scope('if_true'):\n",
            "        x_1, = x,\n",
            "        x_1 = x_1 * x_1\n",
            "        return x_1,\n",
            "\n",
            "    def if_false():\n",
            "      with tf.name_scope('if_false'):\n",
            "        x_1, = x,\n",
            "        x_1 = 0\n",
            "        return x_1,\n",
            "    x = autograph_utils.run_cond(tf.greater(x, 0), if_true, if_false)\n",
            "    return x\n",
            "\n"
          ],
          "name": "stdout"
        }
      ]
    },
    {
      "metadata": {
        "id": "j74n-8hEe6dk",
        "colab_type": "text"
      },
      "cell_type": "markdown",
      "source": [
        "You can then use the converted function as you would any regular TF op -- you can pass `Tensor` arguments and it will return `Tensor`s:"
      ]
    },
    {
      "metadata": {
        "id": "AkVaY0-dfEbH",
        "colab_type": "code",
        "colab": {
          "autoexec": {
            "startup": false,
            "wait_interval": 0
          },
          "output_extras": [
            {}
          ],
          "base_uri": "https://localhost:8080/",
          "height": 53
        },
        "outputId": "4ffe3757-c44d-424c-c2a8-7ddc973bfcce",
        "executionInfo": {
          "status": "ok",
          "timestamp": 1522345737841,
          "user_tz": 240,
          "elapsed": 257,
          "user": {
            "displayName": "Dan Moldovan",
            "photoUrl": "//lh5.googleusercontent.com/-Rneh8xjecyk/AAAAAAAAAAI/AAAAAAAACB4/c5vwsJpbktY/s50-c-k-no/photo.jpg",
            "userId": "112023154726779574577"
          }
        }
      },
      "cell_type": "code",
      "source": [
        "tf_g = autograph.to_graph(g)\n",
        "\n",
        "with tf.Graph().as_default():  \n",
        "\n",
        "  g_ops = tf_g(tf.constant(9))\n",
        "\n",
        "  with tf.Session() as sess:\n",
        "    tf_g_result = sess.run(g_ops)\n",
        "\n",
        "  print('g(9) = %s' % g(9))\n",
        "  print('tf_g(9) = %s' % tf_g_result)"
      ],
      "execution_count": 0,
      "outputs": [
        {
          "output_type": "stream",
          "text": [
            "g(9) = 81\n",
            "tf_g(9) = 81\n"
          ],
          "name": "stdout"
        }
      ]
    },
    {
      "metadata": {
        "id": "trrHQBM1VnD0",
        "colab_type": "text"
      },
      "cell_type": "markdown",
      "source": [
        "# 2. Case study: complex control flow\n",
        "\n",
        "Autograph can convert a large chunk of the Python language into graph-equivalent code, and we're adding new supported language features all the time. In this section, we'll give you a taste of some of the functionality in autograph.\n",
        "Autograph will automatically convert most Python control flow statements into their correct graph equivalent.\n",
        "  "
      ]
    },
    {
      "metadata": {
        "id": "u0YG3DPgZxoW",
        "colab_type": "text"
      },
      "cell_type": "markdown",
      "source": [
        "We support common statements like `while`, `for`, `if`, `break`, `return` and more. You can even nest them as much as you like. Imagine trying to write the graph version of this code by hand:"
      ]
    },
    {
      "metadata": {
        "id": "xJYDzOcrZ8pI",
        "colab_type": "code",
        "colab": {
          "autoexec": {
            "startup": false,
            "wait_interval": 0
          },
          "output_extras": [
            {}
          ],
          "base_uri": "https://localhost:8080/",
          "height": 35
        },
        "outputId": "6c244ee4-b141-4ad6-eefa-cfffa71f33c6",
        "executionInfo": {
          "status": "ok",
          "timestamp": 1522345738402,
          "user_tz": 240,
          "elapsed": 483,
          "user": {
            "displayName": "Dan Moldovan",
            "photoUrl": "//lh5.googleusercontent.com/-Rneh8xjecyk/AAAAAAAAAAI/AAAAAAAACB4/c5vwsJpbktY/s50-c-k-no/photo.jpg",
            "userId": "112023154726779574577"
          }
        }
      },
      "cell_type": "code",
      "source": [
        "def sum_even(numbers):\n",
        "  s = 0\n",
        "  for n in numbers:\n",
        "    if n % 2 > 0:\n",
        "      continue\n",
        "    s += n\n",
        "  return s\n",
        "\n",
        "\n",
        "tf_sum_even = autograph.to_graph(sum_even)\n",
        "\n",
        "with tf.Graph().as_default():  \n",
        "  with tf.Session() as sess:\n",
        "    result = sess.run(tf_sum_even(tf.constant([10, 12, 15, 20])))\n",
        "\n",
        "  print('Sum of even numbers: %s' % result)\n",
        "  \n",
        "# Uncomment the line below to print the generated graph code\n",
        "# print(autograph.to_code(sum_even))"
      ],
      "execution_count": 0,
      "outputs": [
        {
          "output_type": "stream",
          "text": [
            "Sum of even numbers: 42\n"
          ],
          "name": "stdout"
        }
      ]
    },
    {
      "metadata": {
        "id": "_YXo4KOcbKrn",
        "colab_type": "text"
      },
      "cell_type": "markdown",
      "source": [
        "Try replacing the `continue` in the above code with `break` -- Autograph supports that as well!"
      ]
    },
    {
      "metadata": {
        "id": "xHmC0rBIavW_",
        "colab_type": "text"
      },
      "cell_type": "markdown",
      "source": [
        "The Python code above is much more readable than the matching graph code. Autograph takes care of tediously converting every piece of Python code into the matching TensorFlow graph version for you, so that you can quickly write maintainable code, but still benefit from the optimizations and deployment benefits of graphs."
      ]
    },
    {
      "metadata": {
        "id": "UEHWGpBXbS7g",
        "colab_type": "text"
      },
      "cell_type": "markdown",
      "source": [
        "Let's try some other useful Python constructs, like `print` and `assert`. We automatically convert Python `assert` statements into the equivalent `tf.Assert` code.  "
      ]
    },
    {
      "metadata": {
        "id": "qUU57xlEbauI",
        "colab_type": "code",
        "colab": {
          "autoexec": {
            "startup": false,
            "wait_interval": 0
          },
          "output_extras": [
            {}
          ],
          "base_uri": "https://localhost:8080/",
          "height": 53
        },
        "outputId": "add3db4a-2077-4dd5-f7a7-a5b5a4529c26",
        "executionInfo": {
          "status": "ok",
          "timestamp": 1522345738697,
          "user_tz": 240,
          "elapsed": 253,
          "user": {
            "displayName": "Dan Moldovan",
            "photoUrl": "//lh5.googleusercontent.com/-Rneh8xjecyk/AAAAAAAAAAI/AAAAAAAACB4/c5vwsJpbktY/s50-c-k-no/photo.jpg",
            "userId": "112023154726779574577"
          }
        }
      },
      "cell_type": "code",
      "source": [
        "def f(x):\n",
        "  assert x != 0, 'Do not pass zero!'\n",
        "  return x * x\n",
        "\n",
        "tf_f = autograph.to_graph(f)\n",
        "with tf.Graph().as_default():  \n",
        "  with tf.Session() as sess:\n",
        "    try:\n",
        "      print(sess.run(tf_f(tf.constant(0))))\n",
        "    except tf.errors.InvalidArgumentError as e:\n",
        "      print('Got error message: %s' % e.message)\n",
        "      \n",
        "# Uncomment the line below to print the generated graph code\n",
        "# print(autograph.to_code(f))"
      ],
      "execution_count": 0,
      "outputs": [
        {
          "output_type": "stream",
          "text": [
            "Got error message: assertion failed: [Do not pass zero!]\n",
            "\t [[Node: f/Assert/Assert = Assert[T=[DT_STRING], summarize=3, _device=\"/job:localhost/replica:0/task:0/device:CPU:0\"](f/NotEqual, f/Assert/Assert/data_0)]]\n"
          ],
          "name": "stdout"
        }
      ]
    },
    {
      "metadata": {
        "id": "w5hBZaVJbck4",
        "colab_type": "text"
      },
      "cell_type": "markdown",
      "source": [
        "You can also use `print` functions in-graph:"
      ]
    },
    {
      "metadata": {
        "id": "6NdzRKLEboRv",
        "colab_type": "code",
        "colab": {
          "autoexec": {
            "startup": false,
            "wait_interval": 0
          },
          "output_extras": [
            {}
          ],
          "base_uri": "https://localhost:8080/",
          "height": 35
        },
        "outputId": "fb82dfc3-790f-4127-87f6-361805be9e9b",
        "executionInfo": {
          "status": "ok",
          "timestamp": 1522345739013,
          "user_tz": 240,
          "elapsed": 247,
          "user": {
            "displayName": "Dan Moldovan",
            "photoUrl": "//lh5.googleusercontent.com/-Rneh8xjecyk/AAAAAAAAAAI/AAAAAAAACB4/c5vwsJpbktY/s50-c-k-no/photo.jpg",
            "userId": "112023154726779574577"
          }
        }
      },
      "cell_type": "code",
      "source": [
        "def print_sign(n):\n",
        "  if n >= 0:\n",
        "    print(n, 'is positive!')\n",
        "  else:\n",
        "    print(n, 'is negative!')\n",
        "  return n\n",
        "\n",
        "\n",
        "tf_print_sign = autograph.to_graph(print_sign)\n",
        "with tf.Graph().as_default():\n",
        "  with tf.Session() as sess:\n",
        "    sess.run(tf_print_sign(tf.constant(1)))\n",
        "    \n",
        "# Uncomment the line below to print the generated graph code\n",
        "# print(autograph.to_code(print_sign))"
      ],
      "execution_count": 0,
      "outputs": [
        {
          "output_type": "stream",
          "text": [
            "1 is positive!\n"
          ],
          "name": "stdout"
        }
      ]
    },
    {
      "metadata": {
        "id": "9u_Z3i3AivLA",
        "colab_type": "text"
      },
      "cell_type": "markdown",
      "source": [
        "We can convert lists to TensorArray, so appending to lists also works, with a few modifications:"
      ]
    },
    {
      "metadata": {
        "id": "MjhCQJVuiTNR",
        "colab_type": "code",
        "colab": {
          "autoexec": {
            "startup": false,
            "wait_interval": 0
          },
          "output_extras": [
            {}
          ],
          "base_uri": "https://localhost:8080/",
          "height": 35
        },
        "outputId": "dc320b87-595b-4392-d29c-994486fd8a0a",
        "executionInfo": {
          "status": "ok",
          "timestamp": 1522345744470,
          "user_tz": 240,
          "elapsed": 5391,
          "user": {
            "displayName": "Dan Moldovan",
            "photoUrl": "//lh5.googleusercontent.com/-Rneh8xjecyk/AAAAAAAAAAI/AAAAAAAACB4/c5vwsJpbktY/s50-c-k-no/photo.jpg",
            "userId": "112023154726779574577"
          }
        }
      },
      "cell_type": "code",
      "source": [
        "def f(n):\n",
        "  numbers = []\n",
        "  # We ask you to tell us about the element dtype.\n",
        "  autograph.utils.set_element_type(numbers, tf.int32)\n",
        "  for i in range(n):\n",
        "    numbers.append(i)\n",
        "  return numbers.stack() # Stack the list so that it can be used as a Tensor\n",
        "\n",
        "\n",
        "tf_f = autograph.to_graph(f)\n",
        "with tf.Graph().as_default():\n",
        "  with tf.Session() as sess:\n",
        "    print(sess.run(tf_f(tf.constant(5))))\n",
        "    \n",
        "# Uncomment the line below to print the generated graph code\n",
        "# print(autograph.to_code(f))"
      ],
      "execution_count": 0,
      "outputs": [
        {
          "output_type": "stream",
          "text": [
            "[0 1 2 3 4]\n"
          ],
          "name": "stdout"
        }
      ]
    },
    {
      "metadata": {
        "id": "UdG8ZFrkTAF2",
        "colab_type": "text"
      },
      "cell_type": "markdown",
      "source": [
        "And all of these functionalities, and more, can be composed into more complicated code:\n"
      ]
    },
    {
      "metadata": {
        "id": "DVs6wt8NKaGQ",
        "colab_type": "code",
        "colab": {
          "autoexec": {
            "startup": false,
            "wait_interval": 0
          },
          "output_extras": [
            {}
          ],
          "base_uri": "https://localhost:8080/",
          "height": 53
        },
        "cellView": "code",
        "outputId": "0a4b8d08-8f65-4bbc-85ba-dc4c60563519",
        "executionInfo": {
          "status": "ok",
          "timestamp": 1522345745186,
          "user_tz": 240,
          "elapsed": 658,
          "user": {
            "displayName": "Dan Moldovan",
            "photoUrl": "//lh5.googleusercontent.com/-Rneh8xjecyk/AAAAAAAAAAI/AAAAAAAACB4/c5vwsJpbktY/s50-c-k-no/photo.jpg",
            "userId": "112023154726779574577"
          }
        }
      },
      "cell_type": "code",
      "source": [
        "def print_primes(n):\n",
        "  \"\"\"Returns all the prime numbers less than n.\"\"\"\n",
        "  assert n > 0\n",
        "  \n",
        "  primes = []\n",
        "  autograph.utils.set_element_type(primes, tf.int32)\n",
        "  for i in range(2, n):\n",
        "    is_prime = True\n",
        "    for k in range(2, i):\n",
        "      if i % k == 0:\n",
        "        is_prime = False\n",
        "        break\n",
        "    if not is_prime:\n",
        "      continue\n",
        "    primes.append(i)\n",
        "  all_primes = primes.stack()\n",
        "\n",
        "  print('The prime numbers less than', n, 'are:')\n",
        "  print(all_primes)\n",
        "  return tf.no_op()\n",
        "\n",
        "    \n",
        "tf_print_primes = autograph.to_graph(print_primes)\n",
        "with tf.Graph().as_default():  \n",
        "  with tf.Session() as sess:\n",
        "    n = tf.constant(50)\n",
        "    sess.run(tf_print_primes(n))\n",
        "    \n",
        "# Uncomment the line below to print the generated graph code\n",
        "# print(autograph.to_code(print_primes))"
      ],
      "execution_count": 0,
      "outputs": [
        {
          "output_type": "stream",
          "text": [
            "The prime numbers less than 50 are:\n",
            "[ 2  3  5  7 11 13 17 19 23 29 31 37 41 43 47]\n"
          ],
          "name": "stdout"
        }
      ]
    },
    {
      "metadata": {
        "id": "JQ8kQT99VqDk",
        "colab_type": "text"
      },
      "cell_type": "markdown",
      "source": [
        "# 3. Case study: training MNIST with Keras\n",
        "\n",
        "As we've seen, writing control flow in Autograph is easy. So running a training loop in graph should be easy as well!\n",
        "\n",
        "Here, we show an example of such a training loop for a simple Keras model that trains on MNIST."
      ]
    },
    {
      "metadata": {
        "id": "0CrtGWgwuLJr",
        "colab_type": "code",
        "colab": {
          "autoexec": {
            "startup": false,
            "wait_interval": 0
          }
        }
      },
      "cell_type": "code",
      "source": [
        "import gzip\n",
        "import shutil\n",
        "\n",
        "from six.moves import urllib\n",
        "\n",
        "\n",
        "def download(directory, filename):\n",
        "  filepath = os.path.join(directory, filename)\n",
        "  if tf.gfile.Exists(filepath):\n",
        "    return filepath\n",
        "  if not tf.gfile.Exists(directory):\n",
        "    tf.gfile.MakeDirs(directory)\n",
        "  url = 'https://storage.googleapis.com/cvdf-datasets/mnist/' + filename + '.gz'\n",
        "  zipped_filepath = filepath + '.gz'\n",
        "  print('Downloading %s to %s' % (url, zipped_filepath))\n",
        "  urllib.request.urlretrieve(url, zipped_filepath)\n",
        "  with gzip.open(zipped_filepath, 'rb') as f_in, open(filepath, 'wb') as f_out:\n",
        "    shutil.copyfileobj(f_in, f_out)\n",
        "  os.remove(zipped_filepath)\n",
        "  return filepath\n",
        "\n",
        "\n",
        "def dataset(directory, images_file, labels_file):\n",
        "  images_file = download(directory, images_file)\n",
        "  labels_file = download(directory, labels_file)\n",
        "\n",
        "  def decode_image(image):\n",
        "    # Normalize from [0, 255] to [0.0, 1.0]\n",
        "    image = tf.decode_raw(image, tf.uint8)\n",
        "    image = tf.cast(image, tf.float32)\n",
        "    image = tf.reshape(image, [784])\n",
        "    return image / 255.0\n",
        "\n",
        "  def decode_label(label):\n",
        "    label = tf.decode_raw(label, tf.uint8)\n",
        "    label = tf.reshape(label, [])\n",
        "    return tf.to_int32(label)\n",
        "\n",
        "  images = tf.data.FixedLengthRecordDataset(\n",
        "      images_file, 28 * 28, header_bytes=16).map(decode_image)\n",
        "  labels = tf.data.FixedLengthRecordDataset(\n",
        "      labels_file, 1, header_bytes=8).map(decode_label)\n",
        "  return tf.data.Dataset.zip((images, labels))\n",
        "\n",
        "\n",
        "def mnist_train(directory):\n",
        "  return dataset(directory, 'train-images-idx3-ubyte',\n",
        "                 'train-labels-idx1-ubyte')\n",
        "\n",
        "def mnist_test(directory):\n",
        "  return dataset(directory, 't10k-images-idx3-ubyte', 't10k-labels-idx1-ubyte')"
      ],
      "execution_count": 0,
      "outputs": []
    },
    {
      "metadata": {
        "id": "2zu1U9Nqir6L",
        "colab_type": "text"
      },
      "cell_type": "markdown",
      "source": [
        "First, we'll define a small three-layer neural network using the Keras API"
      ]
    },
    {
      "metadata": {
        "id": "x_MU13boiok2",
        "colab_type": "code",
        "colab": {
          "autoexec": {
            "startup": false,
            "wait_interval": 0
          }
        }
      },
      "cell_type": "code",
      "source": [
        "def mlp_model(input_shape):\n",
        "  model = tf.keras.Sequential([\n",
        "      tf.keras.layers.Dense(100, activation='relu', input_shape=input_shape),\n",
        "      tf.keras.layers.Dense(100, activation='relu'),\n",
        "      tf.keras.layers.Dense(10, activation='softmax')])\n",
        "  model.build()\n",
        "  return model"
      ],
      "execution_count": 0,
      "outputs": []
    },
    {
      "metadata": {
        "id": "Wuqg3H8mi0Xj",
        "colab_type": "text"
      },
      "cell_type": "markdown",
      "source": [
        "Let's connect the model definition (here abbreviated as `m`) to a loss function, so that we can train our model."
      ]
    },
    {
      "metadata": {
        "id": "W51sfbONiz_5",
        "colab_type": "code",
        "colab": {
          "autoexec": {
            "startup": false,
            "wait_interval": 0
          }
        }
      },
      "cell_type": "code",
      "source": [
        "def predict(m, x, y):\n",
        "  y_p = m(x)\n",
        "  losses = tf.keras.losses.categorical_crossentropy(y, y_p)\n",
        "  l = tf.reduce_mean(losses)\n",
        "  accuracies = tf.keras.metrics.categorical_accuracy(y, y_p)\n",
        "  accuracy = tf.reduce_mean(accuracies)\n",
        "  return l, accuracy"
      ],
      "execution_count": 0,
      "outputs": []
    },
    {
      "metadata": {
        "id": "035tNWQki9tr",
        "colab_type": "text"
      },
      "cell_type": "markdown",
      "source": [
        "Now the final piece of the problem specification (before loading data, and clicking everything together) is backpropagating the loss through the model, and optimizing the weights using the gradient."
      ]
    },
    {
      "metadata": {
        "id": "CsAD0ajbi9iZ",
        "colab_type": "code",
        "colab": {
          "autoexec": {
            "startup": false,
            "wait_interval": 0
          }
        }
      },
      "cell_type": "code",
      "source": [
        "def fit(m, x, y, opt):\n",
        "  l, accuracy = predict(m, x, y)\n",
        "  opt.minimize(l)\n",
        "  return l, accuracy"
      ],
      "execution_count": 0,
      "outputs": []
    },
    {
      "metadata": {
        "id": "PcVRIacKjSwb",
        "colab_type": "text"
      },
      "cell_type": "markdown",
      "source": [
        "These are some utility functions to download data and generate batches for training"
      ]
    },
    {
      "metadata": {
        "id": "RVw57HdTjPzi",
        "colab_type": "code",
        "colab": {
          "autoexec": {
            "startup": false,
            "wait_interval": 0
          }
        }
      },
      "cell_type": "code",
      "source": [
        "def setup_mnist_data(is_training, hp, batch_size):\n",
        "  if is_training:\n",
        "    ds = mnist_train('/tmp/autograph_mnist_data')\n",
        "    ds = ds.shuffle(batch_size * 10)\n",
        "  else:\n",
        "    ds = mnist_test('/tmp/autograph_mnist_data')\n",
        "  ds = ds.repeat()\n",
        "  ds = ds.batch(batch_size)\n",
        "  return ds\n",
        "\n",
        "def get_next_batch(ds):\n",
        "  itr = ds.make_one_shot_iterator()\n",
        "  image, label = itr.get_next()\n",
        "  x = tf.to_float(tf.reshape(image, (-1, 28 * 28)))\n",
        "  y = tf.one_hot(tf.squeeze(label), 10)\n",
        "  return x, y"
      ],
      "execution_count": 0,
      "outputs": []
    },
    {
      "metadata": {
        "id": "2zEJH5XNjgFz",
        "colab_type": "text"
      },
      "cell_type": "markdown",
      "source": [
        "This function specifies the main training loop. We instantiate the model (using the code above), instantiate an optimizer (here we'll use SGD with momentum, nothing too fancy), and we'll instantiate some lists to keep track of training and test loss and accuracy over time.\n",
        "\n",
        "In the loop inside this function, we'll grab a batch of data, apply an update to the weights of our model to improve its performance, and then record its current training loss and accuracy. Every so often, we'll log some information about training as well."
      ]
    },
    {
      "metadata": {
        "id": "UUI0566FjZPx",
        "colab_type": "code",
        "colab": {
          "autoexec": {
            "startup": false,
            "wait_interval": 0
          }
        }
      },
      "cell_type": "code",
      "source": [
        "def train(train_ds, test_ds, hp):\n",
        "  m = mlp_model((28 * 28,))\n",
        "  opt = tf.train.MomentumOptimizer(hp.learning_rate, 0.9)\n",
        "  train_losses = []\n",
        "  train_losses = autograph.utils.set_element_type(train_losses, tf.float32)\n",
        "  test_losses = []\n",
        "  test_losses = autograph.utils.set_element_type(test_losses, tf.float32)\n",
        "  train_accuracies = []\n",
        "  train_accuracies = autograph.utils.set_element_type(train_accuracies,\n",
        "                                                      tf.float32)\n",
        "  test_accuracies = []\n",
        "  test_accuracies = autograph.utils.set_element_type(test_accuracies,\n",
        "                                                     tf.float32)\n",
        "  i = tf.constant(0)\n",
        "  while i < hp.max_steps:\n",
        "    train_x, train_y = get_next_batch(train_ds)\n",
        "    test_x, test_y = get_next_batch(test_ds)\n",
        "    step_train_loss, step_train_accuracy = fit(m, train_x, train_y, opt)\n",
        "    step_test_loss, step_test_accuracy = predict(m, test_x, test_y)\n",
        "    if i % (hp.max_steps // 10) == 0:\n",
        "      print('Step', i, 'train loss:', step_train_loss, 'test loss:',\n",
        "            step_test_loss, 'train accuracy:', step_train_accuracy,\n",
        "            'test accuracy:', step_test_accuracy)\n",
        "    train_losses.append(step_train_loss)\n",
        "    test_losses.append(step_test_loss)\n",
        "    train_accuracies.append(step_train_accuracy)\n",
        "    test_accuracies.append(step_test_accuracy)\n",
        "    i += 1\n",
        "  return (train_losses.stack(), test_losses.stack(),  train_accuracies.stack(),\n",
        "          test_accuracies.stack())"
      ],
      "execution_count": 0,
      "outputs": []
    },
    {
      "metadata": {
        "id": "cYiUQ1ppkHzk",
        "colab_type": "text"
      },
      "cell_type": "markdown",
      "source": [
        "Everything is ready to go, let's train the model and plot its performance!"
      ]
    },
    {
      "metadata": {
        "id": "K1m8TwOKjdNd",
        "colab_type": "code",
        "colab": {
          "autoexec": {
            "startup": false,
            "wait_interval": 0
          },
          "output_extras": [
            {},
            {},
            {}
          ],
          "base_uri": "https://localhost:8080/",
          "height": 988
        },
        "outputId": "f9d3eef3-5bea-45c1-ddf9-4edee73e4436",
        "executionInfo": {
          "status": "ok",
          "timestamp": 1522345800262,
          "user_tz": 240,
          "elapsed": 52391,
          "user": {
            "displayName": "Dan Moldovan",
            "photoUrl": "//lh5.googleusercontent.com/-Rneh8xjecyk/AAAAAAAAAAI/AAAAAAAACB4/c5vwsJpbktY/s50-c-k-no/photo.jpg",
            "userId": "112023154726779574577"
          }
        }
      },
      "cell_type": "code",
      "source": [
        "with tf.Graph().as_default():\n",
        "  hp = tf.contrib.training.HParams(\n",
        "      learning_rate=0.05,\n",
        "      max_steps=500,\n",
        "  )\n",
        "  train_ds = setup_mnist_data(True, hp, 50)\n",
        "  test_ds = setup_mnist_data(False, hp, 1000)\n",
        "  tf_train = autograph.to_graph(train)\n",
        "  (train_losses, test_losses, train_accuracies,\n",
        "   test_accuracies) = tf_train(train_ds, test_ds, hp)\n",
        "\n",
        "  with tf.Session() as sess:\n",
        "    sess.run(tf.global_variables_initializer())\n",
        "    (train_losses, test_losses, train_accuracies,\n",
        "     test_accuracies) = sess.run([train_losses, test_losses, train_accuracies,\n",
        "                                  test_accuracies])\n",
        "    plt.title('MNIST train/test losses')\n",
        "    plt.plot(train_losses, label='train loss')\n",
        "    plt.plot(test_losses, label='test loss')\n",
        "    plt.legend()\n",
        "    plt.xlabel('Training step')\n",
        "    plt.ylabel('Loss')\n",
        "    plt.show()\n",
        "    plt.title('MNIST train/test accuracies')\n",
        "    plt.plot(train_accuracies, label='train accuracy')\n",
        "    plt.plot(test_accuracies, label='test accuracy')\n",
        "    plt.legend(loc='lower right')\n",
        "    plt.xlabel('Training step')\n",
        "    plt.ylabel('Accuracy')\n",
        "    plt.show()"
      ],
      "execution_count": 0,
      "outputs": [
        {
          "output_type": "stream",
          "text": [
            "Downloading https://storage.googleapis.com/cvdf-datasets/mnist/train-images-idx3-ubyte.gz to /tmp/autograph_mnist_data/train-images-idx3-ubyte.gz\n",
            "Downloading https://storage.googleapis.com/cvdf-datasets/mnist/train-labels-idx1-ubyte.gz to /tmp/autograph_mnist_data/train-labels-idx1-ubyte.gz\n",
            "Downloading https://storage.googleapis.com/cvdf-datasets/mnist/t10k-images-idx3-ubyte.gz to /tmp/autograph_mnist_data/t10k-images-idx3-ubyte.gz\n",
            "Downloading https://storage.googleapis.com/cvdf-datasets/mnist/t10k-labels-idx1-ubyte.gz to /tmp/autograph_mnist_data/t10k-labels-idx1-ubyte.gz\n",
            "Step 0 train loss: 2.244329 test loss: 2.2499208 train accuracy: 0.12 test accuracy: 0.161\n",
            "Step 50 train loss: 0.64771986 test loss: 0.56013924 train accuracy: 0.82 test accuracy: 0.836\n",
            "Step 100 train loss: 0.49011207 test loss: 0.42143965 train accuracy: 0.84 test accuracy: 0.879\n",
            "Step 150 train loss: 0.3768609 test loss: 0.39319593 train accuracy: 0.88 test accuracy: 0.883\n",
            "Step 200 train loss: 0.36007702 test loss: 0.37089333 train accuracy: 0.9 test accuracy: 0.881\n",
            "Step 250 train loss: 0.182115 test loss: 0.28543878 train accuracy: 0.94 test accuracy: 0.915\n",
            "Step 300 train loss: 0.2119576 test loss: 0.22305593 train accuracy: 0.92 test accuracy: 0.93\n",
            "Step 350 train loss: 0.12932214 test loss: 0.29057172 train accuracy: 0.96 test accuracy: 0.906\n",
            "Step 400 train loss: 0.22937602 test loss: 0.2200287 train accuracy: 0.92 test accuracy: 0.925\n",
            "Step 450 train loss: 0.23444137 test loss: 0.19857481 train accuracy: 0.94 test accuracy: 0.94\n"
          ],
          "name": "stdout"
        },
        {
          "output_type": "display_data",
          "data": {
            "image/png": "[encoded data removed]",
            "text/plain": [
              "<matplotlib.figure.Figure at 0x7f72fab5e290>"
            ]
          },
          "metadata": {
            "tags": []
          }
        },
        {
          "output_type": "display_data",
          "data": {
            "image/png": "[encoded data removed]",
            "text/plain": [
              "<matplotlib.figure.Figure at 0x7f72f867ef90>"
            ]
          },
          "metadata": {
            "tags": []
          }
        }
      ]
    },
    {
      "metadata": {
        "id": "HNqUFL4deCsL",
        "colab_type": "text"
      },
      "cell_type": "markdown",
      "source": [
        "# 4. Case study: building an RNN\n"
      ]
    },
    {
      "metadata": {
        "id": "YkC1k4HEQ7rw",
        "colab_type": "text"
      },
      "cell_type": "markdown",
      "source": [
        "In this exercise we build and train a model similar to the RNNColorbot model that was used in the main Eager notebook. The model is adapted for converting and training in graph mode."
      ]
    },
    {
      "metadata": {
        "id": "7nkPDl5CTCNb",
        "colab_type": "text"
      },
      "cell_type": "markdown",
      "source": [
        "To get started, we load the colorbot dataset. The code is identical to that used in the other exercise and its details are unimportant."
      ]
    },
    {
      "metadata": {
        "id": "A0uREmVXCQEw",
        "colab_type": "code",
        "colab": {
          "autoexec": {
            "startup": false,
            "wait_interval": 0
          }
        }
      },
      "cell_type": "code",
      "source": [
        "def parse(line):\n",
        "  \"\"\"Parses a line from the colors dataset.\n",
        "  \n",
        "  Args:\n",
        "    line: A comma-separated string containing four items:\n",
        "        color_name, red, green, and blue, representing the name and\n",
        "        respectively the RGB value of the color, as an integer\n",
        "        between 0 and 255.\n",
        "\n",
        "  Returns:\n",
        "    A tuple of three tensors (rgb, chars, length), of shapes: (batch_size, 3),\n",
        "    (batch_size, max_sequence_length, 256) and respectively (batch_size).\n",
        "  \"\"\"\n",
        "  items = tf.string_split([line], \",\").values\n",
        "  rgb = tf.string_to_number(items[1:], out_type=tf.float32) / 255.0\n",
        "  color_name = items[0]\n",
        "  chars = tf.one_hot(tf.decode_raw(color_name, tf.uint8), depth=256)\n",
        "  length = tf.cast(tf.shape(chars)[0], dtype=tf.int64)\n",
        "  return rgb, chars, length\n",
        "\n",
        "\n",
        "def maybe_download(filename, work_directory, source_url):\n",
        "  \"\"\"Downloads the data from source url.\"\"\"\n",
        "  if not tf.gfile.Exists(work_directory):\n",
        "    tf.gfile.MakeDirs(work_directory)\n",
        "  filepath = os.path.join(work_directory, filename)\n",
        "  if not tf.gfile.Exists(filepath):\n",
        "    temp_file_name, _ = six.moves.urllib.request.urlretrieve(source_url)\n",
        "    tf.gfile.Copy(temp_file_name, filepath)\n",
        "    with tf.gfile.GFile(filepath) as f:\n",
        "      size = f.size()\n",
        "    print('Successfully downloaded', filename, size, 'bytes.')\n",
        "  return filepath\n",
        "\n",
        "\n",
        "def load_dataset(data_dir, url, batch_size, training=True):\n",
        "  \"\"\"Loads the colors data at path into a tf.PaddedDataset.\"\"\"\n",
        "  path = maybe_download(os.path.basename(url), data_dir, url)\n",
        "  dataset = tf.data.TextLineDataset(path)\n",
        "  dataset = dataset.skip(1)\n",
        "  dataset = dataset.map(parse)\n",
        "  dataset = dataset.cache()\n",
        "  dataset = dataset.repeat()\n",
        "  if training:\n",
        "    dataset = dataset.shuffle(buffer_size=3000)\n",
        "  dataset = dataset.padded_batch(batch_size, padded_shapes=([None], [None, None], []))\n",
        "  return dataset\n",
        "\n",
        "\n",
        "train_url = \"https://raw.githubusercontent.com/random-forests/tensorflow-workshop/master/extras/colorbot/data/train.csv\"\n",
        "test_url = \"https://raw.githubusercontent.com/random-forests/tensorflow-workshop/master/extras/colorbot/data/test.csv\"\n",
        "data_dir = \"tmp/rnn/data\""
      ],
      "execution_count": 0,
      "outputs": []
    },
    {
      "metadata": {
        "id": "waZ89t3DTUla",
        "colab_type": "text"
      },
      "cell_type": "markdown",
      "source": [
        "Next, we set up the RNNColobot model, which is very similar to the one we used in the main exercise.\n",
        "\n",
        "Autograph doesn't fully support classes yet (but it will soon!), so we'll write the model using simple functions."
      ]
    },
    {
      "metadata": {
        "id": "9v8AJouiC44V",
        "colab_type": "code",
        "colab": {
          "autoexec": {
            "startup": false,
            "wait_interval": 0
          }
        }
      },
      "cell_type": "code",
      "source": [
        "def model_components():\n",
        "  lower_cell = tf.contrib.rnn.LSTMBlockCell(256)\n",
        "  lower_cell.build(tf.TensorShape((None, 256)))\n",
        "  upper_cell = tf.contrib.rnn.LSTMBlockCell(128)\n",
        "  upper_cell.build(tf.TensorShape((None, 256)))\n",
        "  relu_layer = tf.layers.Dense(3, activation=tf.nn.relu)\n",
        "  relu_layer.build(tf.TensorShape((None, 128)))\n",
        "  return lower_cell, upper_cell, relu_layer\n",
        "\n",
        "\n",
        "def rnn_layer(chars, cell, batch_size, training):\n",
        "  \"\"\"A simple RNN layer.\n",
        "  \n",
        "  Args:\n",
        "    chars: A Tensor of shape (max_sequence_length, batch_size, input_size)\n",
        "    cell: An object of type tf.contrib.rnn.LSTMBlockCell\n",
        "    batch_size: Int, the batch size to use\n",
        "    training: Boolean, whether the layer is used for training\n",
        "\n",
        "  Returns:\n",
        "    A Tensor of shape (max_sequence_length, batch_size, output_size).\n",
        "  \"\"\"\n",
        "  hidden_outputs = []\n",
        "  autograph.utils.set_element_type(hidden_outputs, tf.float32)\n",
        "  state, output = cell.zero_state(batch_size, tf.float32)\n",
        "  n = tf.shape(chars)[0]\n",
        "  i = 0\n",
        "  while i < n:\n",
        "    ch = chars[i]\n",
        "    cell_output, (state, output) = cell.call(ch, (state, output))\n",
        "    hidden_outputs.append(cell_output)\n",
        "    i += 1\n",
        "  hidden_outputs = hidden_outputs.stack()\n",
        "  if training:\n",
        "    hidden_outputs = tf.nn.dropout(hidden_outputs, 0.5)\n",
        "  return hidden_outputs\n",
        "\n",
        "\n",
        "def model(inputs, lower_cell, upper_cell, relu_layer, batch_size, training):\n",
        "  \"\"\"RNNColorbot model.\n",
        "  \n",
        "  The model consists of two RNN layers (made by lower_cell and upper_cell),\n",
        "  followed by a fully connected layer with ReLU activation.\n",
        "  \n",
        "  Args:\n",
        "    inputs: A tuple (chars, length)\n",
        "    lower_cell: An object of type tf.contrib.rnn.LSTMBlockCell\n",
        "    upper_cell: An object of type tf.contrib.rnn.LSTMBlockCell\n",
        "    relu_layer: An object of type tf.layers.Dense\n",
        "    batch_size: Int, the batch size to use\n",
        "    training: Boolean, whether the layer is used for training\n",
        "    \n",
        "  Returns:\n",
        "    A Tensor of shape (batch_size, 3) - the model predictions.\n",
        "  \"\"\"\n",
        "  (chars, length) = inputs\n",
        "  chars_time_major = tf.transpose(chars, [1, 0, 2])\n",
        "  chars_time_major.set_shape((None, batch_size, 256))\n",
        "\n",
        "  hidden_outputs = rnn_layer(chars_time_major, lower_cell, batch_size, training)\n",
        "  final_outputs = rnn_layer(hidden_outputs, upper_cell, batch_size, training)\n",
        "\n",
        "  # Grab just the end-of-sequence from each output.\n",
        "  indices = tf.stack([length - 1, range(batch_size)], axis=1)\n",
        "  sequence_ends = tf.gather_nd(final_outputs, indices)\n",
        "  return relu_layer(sequence_ends)\n",
        "\n",
        "def loss_fn(labels, predictions):\n",
        "  return tf.reduce_mean((predictions - labels) ** 2)"
      ],
      "execution_count": 0,
      "outputs": []
    },
    {
      "metadata": {
        "id": "JjK4gXFvFsf4",
        "colab_type": "text"
      },
      "cell_type": "markdown",
      "source": [
        "The train and test functions are also similar to the ones used in the Eager notebook. Since the network requires a fixed batch size, we'll train in a single shot, rather than by epoch."
      ]
    },
    {
      "metadata": {
        "id": "ZWQMExk0S6X6",
        "colab_type": "code",
        "colab": {
          "autoexec": {
            "startup": false,
            "wait_interval": 0
          }
        }
      },
      "cell_type": "code",
      "source": [
        "def train(optimizer, train_data, lower_cell, upper_cell, relu_layer, batch_size, num_steps):\n",
        "  iterator = train_data.make_one_shot_iterator()\n",
        "  step = 0\n",
        "  while step < num_steps:\n",
        "    labels, chars, sequence_length = iterator.get_next()\n",
        "    predictions = model((chars, sequence_length), lower_cell, upper_cell, relu_layer, batch_size, training=True)\n",
        "    loss = loss_fn(labels, predictions)\n",
        "    optimizer.minimize(loss)\n",
        "    if step % (num_steps // 10) == 0:\n",
        "      print('Step', step, 'train loss', loss)\n",
        "    step += 1\n",
        "  return step\n",
        "\n",
        "\n",
        "def test(eval_data, lower_cell, upper_cell, relu_layer, batch_size, num_steps):\n",
        "  total_loss = 0.0\n",
        "  iterator = eval_data.make_one_shot_iterator()\n",
        "  step = 0\n",
        "  while step < num_steps:\n",
        "    labels, chars, sequence_length = iterator.get_next()\n",
        "    predictions = model((chars, sequence_length), lower_cell, upper_cell, relu_layer, batch_size, training=False)\n",
        "    total_loss += loss_fn(labels, predictions)\n",
        "    step += 1\n",
        "  print('Test loss', total_loss)\n",
        "  return total_loss\n",
        "\n",
        "\n",
        "def train_model(train_data, eval_data, batch_size, lower_cell, upper_cell, relu_layer, train_steps):\n",
        "  optimizer = tf.train.AdamOptimizer(learning_rate=0.01)\n",
        "\n",
        "  train(optimizer, train_data, lower_cell, upper_cell, relu_layer, batch_size, num_steps=tf.constant(train_steps))\n",
        "  test(eval_data, lower_cell, upper_cell, relu_layer, 50, num_steps=tf.constant(2))\n",
        "\n",
        "  print('Colorbot is ready to generate colors!\\n\\n')\n",
        "  \n",
        "  # In graph mode, every op needs to be a dependent of another op.\n",
        "  # Here, we create a no_op that will drive the execution of all other code in\n",
        "  # this function. Autograph will add the necessary control dependencies.\n",
        "  return tf.no_op()"
      ],
      "execution_count": 0,
      "outputs": []
    },
    {
      "metadata": {
        "id": "iopcs5hXG2od",
        "colab_type": "text"
      },
      "cell_type": "markdown",
      "source": [
        "Finally, we add code to run inference on a single input, which we'll read from the input.\n",
        "\n",
        "Note the `do_not_convert` annotation that lets us disable conversion for certain functions and run them as a `py_func` instead, so you can still call them from compiled code."
      ]
    },
    {
      "metadata": {
        "id": "DyU0wnnAFEYj",
        "colab_type": "code",
        "colab": {
          "autoexec": {
            "startup": false,
            "wait_interval": 0
          }
        }
      },
      "cell_type": "code",
      "source": [
        "@autograph.do_not_convert(run_as=autograph.RunMode.PY_FUNC)\n",
        "def draw_prediction(color_name, pred):\n",
        "  pred = pred * 255\n",
        "  pred = pred.astype(np.uint8)\n",
        "  plt.axis('off')\n",
        "  plt.imshow(pred)\n",
        "  plt.title(color_name)\n",
        "  plt.show()\n",
        "\n",
        "\n",
        "def inference(color_name, lower_cell, upper_cell, relu_layer):\n",
        "  _, chars, sequence_length = parse(color_name)\n",
        "  chars = tf.expand_dims(chars, 0)\n",
        "  sequence_length = tf.expand_dims(sequence_length, 0)\n",
        "  pred = model((chars, sequence_length), lower_cell, upper_cell, relu_layer, 1, training=False)\n",
        "  pred = tf.minimum(pred, 1.0)\n",
        "  pred = tf.expand_dims(pred, 0)\n",
        "  draw_prediction(color_name, pred)\n",
        "  # Create an op that will drive the entire function.\n",
        "  return tf.no_op()"
      ],
      "execution_count": 0,
      "outputs": []
    },
    {
      "metadata": {
        "id": "Nt0Kv5OCHip0",
        "colab_type": "text"
      },
      "cell_type": "markdown",
      "source": [
        "Finally, we put everything together.\n",
        "\n",
        "Note that the entire training and testing code is all compiled into a single op (`tf_train_model`) that you only execute once! We also still use a `sess.run` loop for the inference part, because that requires keyboard input."
      ]
    },
    {
      "metadata": {
        "id": "-GmWa0GtYWdh",
        "colab_type": "code",
        "colab": {
          "autoexec": {
            "startup": false,
            "wait_interval": 0
          },
          "output_extras": [
            {},
            {},
            {},
            {},
            {},
            {},
            {},
            {},
            {},
            {},
            {},
            {},
            {},
            {},
            {},
            {},
            {},
            {},
            {},
            {},
            {},
            {},
            {}
          ],
          "base_uri": "https://localhost:8080/",
          "height": 668
        },
        "outputId": "61f4af1d-c81e-44db-9079-1a7b8ed8ce58",
        "executionInfo": {
          "status": "ok",
          "timestamp": 1522345877153,
          "user_tz": 240,
          "elapsed": 75500,
          "user": {
            "displayName": "Dan Moldovan",
            "photoUrl": "//lh5.googleusercontent.com/-Rneh8xjecyk/AAAAAAAAAAI/AAAAAAAACB4/c5vwsJpbktY/s50-c-k-no/photo.jpg",
            "userId": "112023154726779574577"
          }
        }
      },
      "cell_type": "code",
      "source": [
        "def run_input_loop(sess, inference_ops, color_name_placeholder):\n",
        "  \"\"\"Helper function that reads from input and calls the inference ops in a loop.\"\"\"\n",
        "\n",
        "  tb = widgets.TabBar([\"RNN Colorbot\"])\n",
        "  while True:\n",
        "    with tb.output_to(0):\n",
        "      try:\n",
        "        color_name = six.moves.input(\"Give me a color name (or press 'enter' to exit): \")\n",
        "      except (EOFError, KeyboardInterrupt):\n",
        "        break\n",
        "    if not color_name:\n",
        "      break\n",
        "    with tb.output_to(0):\n",
        "      tb.clear_tab()\n",
        "      sess.run(inference_ops, {color_name_placeholder: color_name})\n",
        "      plt.show()\n",
        "\n",
        "with tf.Graph().as_default():\n",
        "  # Read the data.\n",
        "  batch_size = 64\n",
        "  train_data = load_dataset(data_dir, train_url, batch_size)\n",
        "  eval_data = load_dataset(data_dir, test_url, 50, training=False)\n",
        "  \n",
        "  # Create the model components.\n",
        "  lower_cell, upper_cell, relu_layer = model_components()\n",
        "  # Create the helper placeholder for inference.\n",
        "  color_name_placeholder = tf.placeholder(tf.string, shape=())\n",
        "  \n",
        "  # Compile the train / test code.\n",
        "  tf_train_model = autograph.to_graph(train_model)\n",
        "  train_model_ops = tf_train_model(\n",
        "      train_data, eval_data, batch_size, lower_cell, upper_cell, relu_layer, train_steps=100)\n",
        "  \n",
        "  # Compile the inference code.\n",
        "  tf_inference = autograph.to_graph(inference)\n",
        "  inference_ops = tf_inference(color_name_placeholder, lower_cell, upper_cell, relu_layer)\n",
        "  \n",
        "  with tf.Session() as sess:\n",
        "    sess.run(tf.global_variables_initializer())\n",
        "    \n",
        "    # Run training and testing.\n",
        "    sess.run(train_model_ops)\n",
        "     \n",
        "    # Run the inference loop.\n",
        "    run_input_loop(sess, inference_ops, color_name_placeholder)"
      ],
      "execution_count": 0,
      "outputs": [
        {
          "output_type": "stream",
          "text": [
            "('Successfully downloaded', 'train.csv', 28010L, 'bytes.')\n",
            "('Successfully downloaded', 'test.csv', 2414L, 'bytes.')\n",
            "Step 0 train loss 0.37890616\n",
            "Step 10 train loss 0.18515904\n",
            "Step 20 train loss 0.0892782\n",
            "Step 30 train loss 0.07883155\n",
            "Step 40 train loss 0.08585831\n",
            "Step 50 train loss 0.09302989\n",
            "Step 60 train loss 0.089012615\n",
            "Step 70 train loss 0.07275697\n",
            "Step 80 train loss 0.06644974\n",
            "Step 90 train loss 0.0854013\n",
            "Test loss 0.13216865Colorbot is ready to generate colors!\n",
            "\n",
            "\n",
            "\n"
          ],
          "name": "stdout"
        },
        {
          "output_type": "display_data",
          "data": {
            "text/plain": [
              "<IPython.core.display.HTML object>"
            ],
            "text/html": [
              "<link rel=stylesheet type=text/css href='/nbextensions/google.colab/tabbar.css'></link>"
            ]
          },
          "metadata": {
            "tags": [
              "outputarea_id1"
            ]
          }
        },
        {
          "output_type": "display_data",
          "data": {
            "text/plain": [
              "<IPython.core.display.HTML object>"
            ],
            "text/html": [
              "<script src='/nbextensions/google.colab/tabbar_main.min.js'></script>"
            ]
          },
          "metadata": {
            "tags": [
              "outputarea_id1"
            ]
          }
        },
        {
          "output_type": "display_data",
          "data": {
            "text/plain": [
              "<IPython.core.display.HTML object>"
            ],
            "text/html": [
              "<div id=\"id1\"></div>"
            ]
          },
          "metadata": {
            "tags": [
              "outputarea_id1"
            ]
          }
        },
        {
          "output_type": "display_data",
          "data": {
            "application/javascript": [
              "window[\"b102d936-3379-11e8-ac70-0242ac110002\"] = colab_lib.createTabBar({\"contentBorder\": [\"0px\"], \"borderColor\": [\"#a7a7a7\"], \"tabNames\": [\"RNN Colorbot\"], \"initialSelection\": 0, \"location\": \"top\", \"contentHeight\": [\"initial\"], \"elementId\": \"id1\"});\n",
              "//# sourceURL=js_e223a56194"
            ],
            "text/plain": [
              "<IPython.core.display.Javascript object>"
            ]
          },
          "metadata": {
            "tags": [
              "outputarea_id1"
            ]
          }
        },
        {
          "output_type": "display_data",
          "data": {
            "application/javascript": [
              "window[\"b103532a-3379-11e8-ac70-0242ac110002\"] = window[\"id1\"].setSelectedTabIndex(0);\n",
              "//# sourceURL=js_b8c6a821fb"
            ],
            "text/plain": [
              "<IPython.core.display.Javascript object>"
            ]
          },
          "metadata": {
            "tags": [
              "outputarea_id1"
            ]
          }
        },
        {
          "output_type": "display_data",
          "data": {
            "application/javascript": [
              "window[\"b105b28c-3379-11e8-ac70-0242ac110002\"] = google.colab.output.getActiveOutputArea();\n",
              "//# sourceURL=js_44805e254b"
            ],
            "text/plain": [
              "<IPython.core.display.Javascript object>"
            ]
          },
          "metadata": {
            "tags": [
              "id1_content_0",
              "outputarea_id1"
            ]
          }
        },
        {
          "output_type": "display_data",
          "data": {
            "application/javascript": [
              "window[\"b106197a-3379-11e8-ac70-0242ac110002\"] = document.querySelector(\"#id1_content_0\");\n",
              "//# sourceURL=js_a63d3c6c47"
            ],
            "text/plain": [
              "<IPython.core.display.Javascript object>"
            ]
          },
          "metadata": {
            "tags": [
              "id1_content_0",
              "outputarea_id1"
            ]
          }
        },
        {
          "output_type": "display_data",
          "data": {
            "application/javascript": [
              "window[\"b1069f44-3379-11e8-ac70-0242ac110002\"] = google.colab.output.setActiveOutputArea(window[\"b106197a-3379-11e8-ac70-0242ac110002\"]);\n",
              "//# sourceURL=js_7e203b8bce"
            ],
            "text/plain": [
              "<IPython.core.display.Javascript object>"
            ]
          },
          "metadata": {
            "tags": [
              "id1_content_0",
              "outputarea_id1"
            ]
          }
        },
        {
          "output_type": "display_data",
          "data": {
            "application/javascript": [
              "window[\"b1070f38-3379-11e8-ac70-0242ac110002\"] = window[\"id1\"].setSelectedTabIndex(0);\n",
              "//# sourceURL=js_d53293d4a7"
            ],
            "text/plain": [
              "<IPython.core.display.Javascript object>"
            ]
          },
          "metadata": {
            "tags": [
              "id1_content_0",
              "outputarea_id1"
            ]
          }
        },
        {
          "output_type": "display_data",
          "data": {
            "application/javascript": [
              "window[\"c6d90d5c-3379-11e8-ac70-0242ac110002\"] = google.colab.output.setActiveOutputArea(window[\"b105b28c-3379-11e8-ac70-0242ac110002\"]);\n",
              "//# sourceURL=js_3000dc2c05"
            ],
            "text/plain": [
              "<IPython.core.display.Javascript object>"
            ]
          },
          "metadata": {
            "tags": [
              "id1_content_0",
              "outputarea_id1"
            ]
          }
        },
        {
          "output_type": "display_data",
          "data": {
            "application/javascript": [
              "window[\"c6da872c-3379-11e8-ac70-0242ac110002\"] = google.colab.output.getActiveOutputArea();\n",
              "//# sourceURL=js_4136f669a3"
            ],
            "text/plain": [
              "<IPython.core.display.Javascript object>"
            ]
          },
          "metadata": {
            "tags": [
              "id1_content_0",
              "outputarea_id1"
            ]
          }
        },
        {
          "output_type": "display_data",
          "data": {
            "application/javascript": [
              "window[\"c6dac868-3379-11e8-ac70-0242ac110002\"] = document.querySelector(\"#id1_content_0\");\n",
              "//# sourceURL=js_2f70dd9aee"
            ],
            "text/plain": [
              "<IPython.core.display.Javascript object>"
            ]
          },
          "metadata": {
            "tags": [
              "id1_content_0",
              "outputarea_id1"
            ]
          }
        },
        {
          "output_type": "display_data",
          "data": {
            "application/javascript": [
              "window[\"c6db07d8-3379-11e8-ac70-0242ac110002\"] = google.colab.output.setActiveOutputArea(window[\"c6dac868-3379-11e8-ac70-0242ac110002\"]);\n",
              "//# sourceURL=js_7226726048"
            ],
            "text/plain": [
              "<IPython.core.display.Javascript object>"
            ]
          },
          "metadata": {
            "tags": [
              "id1_content_0",
              "outputarea_id1"
            ]
          }
        },
        {
          "output_type": "display_data",
          "data": {
            "application/javascript": [
              "window[\"c6dcc6fe-3379-11e8-ac70-0242ac110002\"] = window[\"id1\"].setSelectedTabIndex(0);\n",
              "//# sourceURL=js_72e7709865"
            ],
            "text/plain": [
              "<IPython.core.display.Javascript object>"
            ]
          },
          "metadata": {
            "tags": [
              "id1_content_0",
              "outputarea_id1"
            ]
          }
        },
        {
          "output_type": "display_data",
          "data": {
            "image/png": "[encoded data removed]",
            "text/plain": [
              "<matplotlib.figure.Figure at 0x7f72f402e850>"
            ]
          },
          "metadata": {
            "tags": [
              "id1_content_0",
              "outputarea_id1",
              "user_output"
            ]
          }
        },
        {
          "output_type": "display_data",
          "data": {
            "application/javascript": [
              "window[\"c70592aa-3379-11e8-ac70-0242ac110002\"] = google.colab.output.setActiveOutputArea(window[\"c6da872c-3379-11e8-ac70-0242ac110002\"]);\n",
              "//# sourceURL=js_25c3aaf79a"
            ],
            "text/plain": [
              "<IPython.core.display.Javascript object>"
            ]
          },
          "metadata": {
            "tags": [
              "id1_content_0",
              "outputarea_id1"
            ]
          }
        },
        {
          "output_type": "display_data",
          "data": {
            "application/javascript": [
              "window[\"c70842c0-3379-11e8-ac70-0242ac110002\"] = google.colab.output.getActiveOutputArea();\n",
              "//# sourceURL=js_984c56b816"
            ],
            "text/plain": [
              "<IPython.core.display.Javascript object>"
            ]
          },
          "metadata": {
            "tags": [
              "id1_content_0",
              "outputarea_id1"
            ]
          }
        },
        {
          "output_type": "display_data",
          "data": {
            "application/javascript": [
              "window[\"c708dec4-3379-11e8-ac70-0242ac110002\"] = document.querySelector(\"#id1_content_0\");\n",
              "//# sourceURL=js_e0451a1217"
            ],
            "text/plain": [
              "<IPython.core.display.Javascript object>"
            ]
          },
          "metadata": {
            "tags": [
              "id1_content_0",
              "outputarea_id1"
            ]
          }
        },
        {
          "output_type": "display_data",
          "data": {
            "application/javascript": [
              "window[\"c7092726-3379-11e8-ac70-0242ac110002\"] = google.colab.output.setActiveOutputArea(window[\"c708dec4-3379-11e8-ac70-0242ac110002\"]);\n",
              "//# sourceURL=js_7aa23d7385"
            ],
            "text/plain": [
              "<IPython.core.display.Javascript object>"
            ]
          },
          "metadata": {
            "tags": [
              "id1_content_0",
              "outputarea_id1"
            ]
          }
        },
        {
          "output_type": "display_data",
          "data": {
            "application/javascript": [
              "window[\"c7099044-3379-11e8-ac70-0242ac110002\"] = window[\"id1\"].setSelectedTabIndex(0);\n",
              "//# sourceURL=js_5722756ddb"
            ],
            "text/plain": [
              "<IPython.core.display.Javascript object>"
            ]
          },
          "metadata": {
            "tags": [
              "id1_content_0",
              "outputarea_id1"
            ]
          }
        },
        {
          "output_type": "stream",
          "text": [
            "Give me a color name (or press 'enter' to exit): \n"
          ],
          "name": "stdout"
        },
        {
          "output_type": "display_data",
          "data": {
            "application/javascript": [
              "window[\"c7baac12-3379-11e8-ac70-0242ac110002\"] = google.colab.output.setActiveOutputArea(window[\"c70842c0-3379-11e8-ac70-0242ac110002\"]);\n",
              "//# sourceURL=js_cdd622e58f"
            ],
            "text/plain": [
              "<IPython.core.display.Javascript object>"
            ]
          },
          "metadata": {
            "tags": [
              "id1_content_0",
              "outputarea_id1"
            ]
          }
        }
      ]
    },
    {
      "metadata": {
        "id": "AHJ2c47U-A5W",
        "colab_type": "text"
      },
      "cell_type": "markdown",
      "source": [
        "# Where do we go next?\n",
        "\n",
        "Autograph is available in tensorflow.contrib, but it's still in its early stages. We're excited about the possibilities it brings — write your machine learning code in the flexible Eager style, but still enjoy all the benefits that come with running in graph mode. A beta version will be available soon -- stay tuned!"
      ]
    }
  ]
}
